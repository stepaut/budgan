{
 "cells": [
  {
   "cell_type": "code",
   "execution_count": null,
   "metadata": {},
   "outputs": [],
   "source": [
    "import pandas as pd\n",
    "import numpy as np\n",
    "import utils.openfilegui\n",
    "import common.reading\n",
    "import common.keys as keys\n",
    "import common.analysis as al\n",
    "import matplotlib.pyplot as plt"
   ]
  },
  {
   "cell_type": "code",
   "execution_count": null,
   "metadata": {},
   "outputs": [],
   "source": [
    "file = utils.openfilegui.gui_fname(\"./\")"
   ]
  },
  {
   "cell_type": "code",
   "execution_count": null,
   "metadata": {},
   "outputs": [],
   "source": [
    "df = common.reading.get_df(file)"
   ]
  },
  {
   "cell_type": "code",
   "execution_count": null,
   "metadata": {},
   "outputs": [],
   "source": [
    "expense_ = df[df[keys.TYPE] == keys.EXPENSE]\n",
    "income_ = df[df[keys.TYPE] == keys.INCOME]\n",
    "invest_ = df[(df[keys.TYPE] == keys.TRANSFER) & (\n",
    "    df[keys.CATEGORY] == keys.INVESTING)]\n",
    "\n"
   ]
  },
  {
   "cell_type": "code",
   "execution_count": null,
   "metadata": {},
   "outputs": [],
   "source": [
    "expenseM = al.transformByCat(expense_, 'M', keys.CATEGORY)\n",
    "expenseM_PC = al.transformByCat(expense_, 'M', keys.PARENT_CATEGORY)\n",
    "incomeM = al.transformByCat(income_, 'M', keys.CATEGORY)\n",
    "incomeM_PC = al.transformByCat(income_, 'M', keys.PARENT_CATEGORY)\n",
    "investM = al.transformByCat(invest_, 'M', keys.ACCOUNT_RECEIVABLE)\n",
    "totalM = al.merge(expenseM, incomeM, investM)\n",
    "\n",
    "expenseY = al.transformByCat(expense_, 'Y', keys.CATEGORY)\n",
    "expenseY_PC = al.transformByCat(expense_, 'Y', keys.PARENT_CATEGORY)\n",
    "incomeY = al.transformByCat(income_, 'Y', keys.CATEGORY)\n",
    "incomeY_PC = al.transformByCat(income_, 'Y', keys.PARENT_CATEGORY)\n",
    "investY = al.transformByCat(invest_, 'Y', keys.ACCOUNT_RECEIVABLE)\n",
    "totalY = al.merge(expenseY, incomeY, investY)"
   ]
  },
  {
   "cell_type": "code",
   "execution_count": null,
   "metadata": {},
   "outputs": [],
   "source": [
    "al.get_most_changed(expenseY, 2023)"
   ]
  },
  {
   "cell_type": "code",
   "execution_count": null,
   "metadata": {},
   "outputs": [],
   "source": [
    "al.get_most_changed(expenseY_PC, 2023)"
   ]
  },
  {
   "cell_type": "code",
   "execution_count": null,
   "metadata": {},
   "outputs": [],
   "source": [
    "al.get_most_changed(incomeY, 2023)"
   ]
  },
  {
   "cell_type": "code",
   "execution_count": null,
   "metadata": {},
   "outputs": [],
   "source": [
    "al.get_most_changed(incomeY_PC, 2023)"
   ]
  },
  {
   "cell_type": "code",
   "execution_count": null,
   "metadata": {},
   "outputs": [],
   "source": [
    "def makePies(data: pd.DataFrame):\n",
    "    years = len(data.T.columns)\n",
    "    # fig, axes = plt.subplots(nrows=len(data.T.columns), figsize=(30,30))\n",
    "    for year_num in range(years):\n",
    "        year = data.T.columns[year_num]\n",
    "        df = al.getDFForPie(data, year, 2)\n",
    "        if df is None:\n",
    "            continue\n",
    "        # df.plot(ax=axes[year_num], kind='pie', autopct='%i%%', y=year, legend=False, subplots=True)\n",
    "        plt.figure(figsize=(40, 40))\n",
    "        df.plot(kind='pie', autopct='%i%%',\n",
    "                y=year, legend=False, subplots=True)\n",
    "\n",
    "\n",
    "def make_single_lines(data: pd.DataFrame):\n",
    "    data = data.loc[:, data.columns != keys.TOTAL]\n",
    "    for c in data.columns:\n",
    "        df = data[c]\n",
    "\n",
    "        plt.figure(figsize=(6, 6))\n",
    "        plt.title(c)\n",
    "        plt.grid(True)\n",
    "        df.plot(subplots=True)"
   ]
  },
  {
   "cell_type": "code",
   "execution_count": null,
   "metadata": {},
   "outputs": [],
   "source": [
    "make_single_lines(incomeY_PC)"
   ]
  },
  {
   "cell_type": "code",
   "execution_count": null,
   "metadata": {},
   "outputs": [],
   "source": [
    "make_single_lines(expenseY_PC)"
   ]
  },
  {
   "cell_type": "code",
   "execution_count": null,
   "metadata": {},
   "outputs": [],
   "source": [
    "expenseM_PC.loc[:, expenseM_PC.columns != keys.TOTAL].plot()\n",
    "plt.grid(True)"
   ]
  },
  {
   "cell_type": "code",
   "execution_count": null,
   "metadata": {},
   "outputs": [],
   "source": [
    "incomeM_PC.loc[:, incomeM_PC.columns != keys.TOTAL].plot()\n",
    "plt.grid(True)"
   ]
  },
  {
   "cell_type": "code",
   "execution_count": null,
   "metadata": {},
   "outputs": [],
   "source": [
    "totalM.loc[:, totalM.columns != keys.TOTAL].plot()\n",
    "plt.grid(True)"
   ]
  },
  {
   "cell_type": "code",
   "execution_count": null,
   "metadata": {},
   "outputs": [],
   "source": [
    "ax = totalY.iloc[:, totalY.columns != keys.TOTAL].plot(kind='bar')\n",
    "totalY[keys.EXPENSE_SHARE].plot(ax=ax, secondary_y=True, color='r', ylim=(0,100))\n",
    "totalY[keys.INVESTING_SHARE].plot(ax=ax, secondary_y=True, color='y', ylim=(0,100))\n",
    "plt.grid(True)"
   ]
  },
  {
   "cell_type": "code",
   "execution_count": null,
   "metadata": {},
   "outputs": [],
   "source": [
    "makePies(expenseY)"
   ]
  },
  {
   "cell_type": "code",
   "execution_count": null,
   "metadata": {},
   "outputs": [],
   "source": [
    "makePies(incomeY)"
   ]
  },
  {
   "cell_type": "code",
   "execution_count": null,
   "metadata": {},
   "outputs": [],
   "source": [
    "makePies(investY)"
   ]
  },
  {
   "cell_type": "code",
   "execution_count": null,
   "metadata": {},
   "outputs": [],
   "source": [
    "expenseY_PC.iloc[:, expenseY_PC.columns != keys.TOTAL].plot(kind='barh', stacked=True)\n",
    "plt.grid(True)"
   ]
  },
  {
   "cell_type": "code",
   "execution_count": null,
   "metadata": {},
   "outputs": [],
   "source": [
    "incomeY_PC.iloc[:, incomeY_PC.columns != keys.TOTAL].plot(kind='barh', stacked=True)\n",
    "plt.grid(True)"
   ]
  },
  {
   "cell_type": "code",
   "execution_count": null,
   "metadata": {},
   "outputs": [],
   "source": [
    "totalM.loc[:, totalM.columns == keys.TOTAL].plot()\n",
    "plt.grid(True)"
   ]
  },
  {
   "cell_type": "code",
   "execution_count": null,
   "metadata": {},
   "outputs": [],
   "source": [
    "total_income = totalY[keys.INCOME].sum()\n",
    "total_expense = totalY[keys.EXPENSE].sum()\n",
    "total_invest = totalY[keys.INVESTING].sum()\n",
    "\n",
    "print(\"Total: {:,}\".format(total_income - total_expense))\n",
    "print(\"Free: {:,}\".format(total_income - total_expense - total_invest))\n",
    "print(\"Invested: {:,}\".format(total_invest))\n"
   ]
  }
 ],
 "metadata": {
  "kernelspec": {
   "display_name": "Python 3",
   "language": "python",
   "name": "python3"
  },
  "language_info": {
   "codemirror_mode": {
    "name": "ipython",
    "version": 3
   },
   "file_extension": ".py",
   "mimetype": "text/x-python",
   "name": "python",
   "nbconvert_exporter": "python",
   "pygments_lexer": "ipython3",
   "version": "3.11.2"
  },
  "orig_nbformat": 4
 },
 "nbformat": 4,
 "nbformat_minor": 2
}
